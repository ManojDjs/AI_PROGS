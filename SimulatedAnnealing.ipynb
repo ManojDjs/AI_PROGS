{
  "nbformat": 4,
  "nbformat_minor": 0,
  "metadata": {
    "colab": {
      "name": "SimulatedAnnealing.ipynb",
      "provenance": [],
      "collapsed_sections": []
    },
    "kernelspec": {
      "name": "python3",
      "display_name": "Python 3"
    }
  },
  "cells": [
    {
      "cell_type": "code",
      "metadata": {
        "id": "-mml16gKeqMO"
      },
      "source": [
        "# Simuated anealing algorithm for eight queens problem example\n",
        "# \n",
        "# the code from here - https://github.com/rwsh/AI-Queen\n",
        "# \n",
        "\n",
        "import random as rnd\n",
        "import numpy as np\n",
        "import matplotlib.pyplot as plt\n",
        "\n",
        "\n",
        "class TPole():\n",
        "    def __init__(self, N):\n",
        "        self.N = N\n",
        "        self.Pos = list()\n",
        "        for n in range(self.N):\n",
        "            self.Pos.append(n)\n",
        "            \n",
        "    def Mix(self):\n",
        "        Pos = list()\n",
        "        for p in self.Pos:\n",
        "            Pos.append(p)\n",
        "            \n",
        "        i = 0\n",
        "        j = 0\n",
        "        while i == j:\n",
        "            i = rnd.randint(0, self.N - 1)\n",
        "            j = rnd.randint(0, self.N - 1)\n",
        "            \n",
        "        a = Pos[i]\n",
        "        Pos[i] = Pos[j]\n",
        "        Pos[j] = a\n",
        "    \n",
        "        return Pos\n",
        "        \n",
        "    def Calc(self, Pos):\n",
        "        res = 0\n",
        "        \n",
        "        for n in range(self.N):\n",
        "            k = n - 1\n",
        "            while k >= 0:\n",
        "                if Pos[k] == (Pos[n] + (n - k)):\n",
        "                    res = res + 1\n",
        "\n",
        "                if Pos[k] == (Pos[n] - (n - k)):\n",
        "                    res = res + 1\n",
        "                k = k - 1\n",
        "\n",
        "            k = n + 1\n",
        "            while k < self.N:\n",
        "                if Pos[k] == (Pos[n] + (k - n)):\n",
        "                    res = res + 1\n",
        "\n",
        "                if Pos[k] == (Pos[n] - (k - n)):\n",
        "                    res = res + 1\n",
        "                k = k + 1\n",
        "                \n",
        "        return res\n",
        "\n",
        "    def CalcSelf(self):\n",
        "        return self.Calc(self.Pos)\n",
        "    \n",
        "    def Change(self, Pos):\n",
        "        self.Pos = Pos"
      ],
      "execution_count": null,
      "outputs": []
    },
    {
      "cell_type": "code",
      "metadata": {
        "id": "3iAewVdpex7b"
      },
      "source": [
        "class TRun():\n",
        "    def __init__(self, Pole):\n",
        "        self.Pole = Pole\n",
        "        self.T = 50\n",
        "        self.alpha = 0.98\n",
        "        \n",
        "    def Run(self):\n",
        "        Pos = self.Pole.Mix()\n",
        "        ds = self.Pole.Calc(Pos) - self.Pole.CalcSelf()\n",
        "        # print(self.Pole.Calc(Pos))\n",
        "        if ds < 0:\n",
        "            self.Pole.Change(Pos)\n",
        "        else:\n",
        "            p = np.exp(- ds / self.T)\n",
        "            \n",
        "            if p > rnd.random():\n",
        "                self.Pole.Change(Pos)\n",
        "\n",
        "            self.T = self.alpha * self.T\n",
        "\n",
        "        return self.Pole.CalcSelf()"
      ],
      "execution_count": null,
      "outputs": []
    },
    {
      "cell_type": "code",
      "metadata": {
        "id": "0g4t7fPEbhX4"
      },
      "source": [
        "def solveQueensProblem(dimension, doOutput = False, maxSteps = 1000000):\n",
        "  Pole = TPole(dimension)\n",
        "  Run = TRun(Pole)\n",
        "  Curs = list([0] * maxSteps)\n",
        "\n",
        "  if (doOutput): \n",
        "    print('Initial Temperature', Run.T)\n",
        "\n",
        "  numberOfSteps = 0;\n",
        "  for n in range(maxSteps):\n",
        "    cur = Run.Run()\n",
        "    Curs[n] = cur\n",
        "    \n",
        "    if cur == 0:\n",
        "        numberOfSteps = n\n",
        "        if (doOutput): \n",
        "          print('Solution: ', Pole.Pos)\n",
        "        if (doOutput): \n",
        "          print('Steps for Solution: ', n)\n",
        "        if (doOutput): \n",
        "          print('Current Temperature', Run.T)\n",
        "        break\n",
        "  if (doOutput): \n",
        "    plt.figure(1)\n",
        "    plt.plot(Curs)\n",
        "    plt.grid(True)\n",
        "    plt.xlabel(\"Time\")\n",
        "    plt.ylabel(\"Energy\")\n",
        "    plt.savefig(\"/home/simulated_annealing-example.svg\")\n",
        "    plt.show()\n",
        "  return numberOfSteps, Curs\n"
      ],
      "execution_count": null,
      "outputs": []
    },
    {
      "cell_type": "markdown",
      "metadata": {
        "id": "zS6JNSX9mi0w"
      },
      "source": [
        "Example for N = 10"
      ]
    },
    {
      "cell_type": "code",
      "metadata": {
        "id": "bfG5M9j1ezxr",
        "outputId": "5a033b9f-6609-4df6-a2dd-e0c8fea68c22",
        "colab": {
          "base_uri": "https://localhost:8080/",
          "height": 334
        }
      },
      "source": [
        "import numpy as np\n",
        "\n",
        "# run algo 100 times and draw the avarage convergence figure\n",
        "curs = list()\n",
        "for n in range(100):\n",
        "  n, cur = solveQueensProblem(10, maxSteps=1000);\n",
        "  curs.append(cur);\n",
        "\n",
        "x = np.matrix(curs)\n",
        "meanSolution = np.matrix(curs).mean(0)\n",
        "\n",
        "plt.figure(1, figsize=(10, 5))\n",
        "plt.plot(meanSolution.tolist()[0])\n",
        "plt.grid(True)\n",
        "plt.xlabel(\"Time\")\n",
        "plt.ylabel(\"Energy\")\n",
        "plt.savefig(\"/home/sa-example.svg\")\n",
        "plt.show()"
      ],
      "execution_count": null,
      "outputs": [
        {
          "output_type": "display_data",
          "data": {
            "image/png": "[encoded data removed]",
            "text/plain": [
              "<Figure size 720x360 with 1 Axes>"
            ]
          },
          "metadata": {
            "tags": []
          }
        }
      ]
    },
    {
      "cell_type": "markdown",
      "metadata": {
        "id": "RQz1faeIl4_B"
      },
      "source": [
        "Measure the Time depends on N avaraged over 10 runs for each N."
      ]
    },
    {
      "cell_type": "code",
      "metadata": {
        "id": "gzHlzOsve31X",
        "outputId": "b85d123f-1831-4dee-e8ef-4e6203fdcb5c",
        "colab": {
          "base_uri": "https://localhost:8080/",
          "height": 54
        }
      },
      "source": [
        "maxDimension = 40;\n",
        "maxRunsForN = 200;\n",
        "startRun = 4;\n",
        "\n",
        "avarageStepsForN = []\n",
        "\n",
        "for N in range(startRun, maxDimension + 1):\n",
        "  print(N, end=\" \")\n",
        "  stepsOnCurrentRun = []\n",
        "  for run in range(maxRunsForN):\n",
        "    requiredSteps, curs = solveQueensProblem(N)\n",
        "    stepsOnCurrentRun.append(requiredSteps)\n",
        "  avarageStepsForN.append(sum(stepsOnCurrentRun) / maxRunsForN)"
      ],
      "execution_count": null,
      "outputs": [
        {
          "output_type": "stream",
          "text": [
            "4 5 6 7 8 9 10 11 12 13 14 15 16 17 18 19 20 21 22 23 24 25 26 27 28 29 30 31 32 33 34 35 36 37 38 39 40 "
          ],
          "name": "stdout"
        }
      ]
    },
    {
      "cell_type": "code",
      "metadata": {
        "id": "sR22jfpDfOVL",
        "outputId": "f83b3c74-d578-4882-dc61-a37807120664",
        "colab": {
          "base_uri": "https://localhost:8080/",
          "height": 334
        }
      },
      "source": [
        "plt.figure(1, figsize=(10, 5))\n",
        "plt.plot(range(startRun, maxDimension + 1), avarageStepsForN)\n",
        "plt.grid(True)\n",
        "plt.xlabel(\"Dimension of The Problem\")\n",
        "plt.ylabel(\"Number of Steps for Solution\")\n",
        "plt.savefig(\"/home/sa-runs.svg\")\n",
        "plt.show()"
      ],
      "execution_count": null,
      "outputs": [
        {
          "output_type": "display_data",
          "data": {
            "image/png": "[encoded data removed]",
            "text/plain": [
              "<Figure size 720x360 with 1 Axes>"
            ]
          },
          "metadata": {
            "tags": []
          }
        }
      ]
    },
    {
      "cell_type": "code",
      "metadata": {
        "id": "1ynl_nf-pu7W"
      },
      "source": [],
      "execution_count": null,
      "outputs": []
    }
  ]
}